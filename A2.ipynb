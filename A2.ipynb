{
 "cells": [
  {
   "cell_type": "markdown",
   "id": "01d7f2ba-319c-4e6f-8d7a-f87b887b7202",
   "metadata": {},
   "source": [
    "# Assignment A2 [40 marks]\n",
    "\n",
    "Please **read the instructions in `README.md`** before starting!\n",
    "\n",
    "---"
   ]
  },
  {
   "cell_type": "code",
   "execution_count": null,
   "id": "1833ae4f-6cad-4f58-80b6-4cfd02948efc",
   "metadata": {},
   "outputs": [],
   "source": [
    "import numpy as np\n",
    "import matplotlib.pyplot as plt\n",
    "import importlib\n",
    "import task2, task3"
   ]
  },
  {
   "cell_type": "markdown",
   "id": "553581a9-d2ab-43fc-9e0b-466abcbc7bec",
   "metadata": {},
   "source": [
    "---\n",
    "## Task 1: Finite difference approximations [6 marks]\n",
    "\n",
    "Consider the following finite difference approximation of the derivative $f' \\left( x \\right)$ of an appropriately smooth function $f \\left( x \\right)$, with a step size $\\Delta x > 0$:\n",
    "\n",
    "$$\n",
    "f'(x) \\approx D(x) = \\frac{1}{\\Delta x} \\Big(\\alpha_1 f(x - \\beta \\Delta x) + \\alpha_2 f(x) + \\alpha_3 f(x + \\beta \\Delta x)\\Big),\n",
    "$$\n",
    "\n",
    "where $\\beta \\neq 0$ is known.\n",
    "\n",
    "---\n",
    "#### 🚩 1.a [3 marks]\n",
    "\n",
    "Show that the only possible values of $\\alpha_1, \\alpha_2, \\alpha_3$ which guarantee second-order accuracy for $D(x)$ are given by\n",
    "\n",
    "$$\n",
    "\\alpha_1 = -\\alpha_3 = -\\frac{1}{2\\beta}, \\quad \\alpha_2 = 0.\n",
    "$$"
   ]
  },
  {
   "cell_type": "markdown",
   "id": "effbec9e-6045-472c-bf77-b4402a0d69b9",
   "metadata": {},
   "source": [
    "_✏️ You can edit this cell to show your working, or alternatively, submit a PDF file._"
   ]
  },
  {
   "cell_type": "markdown",
   "id": "b1e59ac8-8ade-4915-aea0-53fd8dd59096",
   "metadata": {},
   "source": [
    "---\n",
    "#### 🚩 1.b [3 marks]\n",
    "\n",
    "Perform numerical experiments to confirm that the order of accuracy of $D(x)$ is indeed 2 with the above values of $\\alpha_1, \\alpha_2, \\alpha_3$, using at least 3 different values of $\\beta$."
   ]
  },
  {
   "cell_type": "code",
   "execution_count": null,
   "id": "1ca144d1-7d4b-4a15-b06c-4b68fec4114e",
   "metadata": {},
   "outputs": [],
   "source": [
    "# Your code here\n",
    "\n"
   ]
  },
  {
   "cell_type": "markdown",
   "id": "9c6a1595-74d2-410f-a357-b88309cc1eed",
   "metadata": {},
   "source": [
    "---\n",
    "## Task 2: Soap solution solutions [14 marks]\n",
    "\n",
    "_All function definitions for this task must be written in `task2.py`._\n",
    "\n",
    "### Soap solution solutions \n",
    "\n",
    "If you dip two concentric and parallel rings with respective radii, $a$ and $b$, into a soapy solution together and slowly pull them apart, you will find a sheet forms between the two rings:\n",
    "\n",
    "<img src=\"https://upload.wikimedia.org/wikipedia/commons/f/f2/Bulle_cat%C3%A9no%C3%AFde.png\" width=\"300\" height=\"300\" />\n",
    "\n",
    "You can read about the process and the mathematical modelling setup [here](https://en.wikipedia.org/wiki/Minimal_surface_of_revolution).\n",
    "\n",
    "The idea is that the film will minimise the area of the surface of revolution given by\n",
    "\n",
    "$$\n",
    "A \\ = \\ 2\\pi \\int_{0}^{d}  r(s) \\, \\sqrt{1+r'(s)^{2}} \\, \\mathrm{d}s,\n",
    "$$\n",
    "\n",
    "where $r(s)$ is the surface's radius from the rings' centre, and $s$ parameterises the distance coordinate between them. Minimising the total area produces a differential equation for $r(s)$, which we don't need worry about now. However, we also have two boundary conditions for the left and right rings (with respective radii, $a$ and $b$) spaced a total distance, $d$, apart,\n",
    "\n",
    "$$\n",
    "r(0) = a, \\qquad r(d) = b.\n",
    "$$\n",
    "\n",
    "Without loss of generality, we can set $a = 1$; all lengths are measured in terms of the size of the right ring. \n",
    "\n",
    "For an unknown parameter, $0<k<1$, the general solution has the form\n",
    "\n",
    "$$\n",
    "\\large\n",
    "r_{k}(s) = \\cosh(\\,s\\,/\\,k \\,) - \\sqrt{1-k^{2}}  \\, \\sinh(\\,s\\,/\\,k\\,),\n",
    "$$\n",
    "\n",
    "where by definition $r_{k}(0) = 1$. Given known $d$ and $b$ parameters, the right boundary condition determines the $k$ parameter,\n",
    "\n",
    "$$\\large\n",
    "r_{k}(d) = \\cosh(\\,d\\,/\\,k \\,) - \\sqrt{1-k^{2}}  \\, \\sinh(\\,d\\,/\\,k\\,) \\ = \\ b.\n",
    "$$\n",
    "\n",
    "Given $b,d$, we must solve this numerically to find $k$.  \n",
    "\n",
    "However, there's a catch. In general, there could be zero, one, or two solutions. You'll have to deal with these possibilities carefully. When we have multiple solutions, we want the one that *minimises* the total area. It's possible to prove that given a $k$ value that satisfies the boundary conditions, we have\n",
    "\n",
    "$$\\large\n",
    "\\frac{A}{2\\pi} \\ = \\ b \\, \\sinh(d/k) - \\frac{k^{2}}{4}\\, \\sinh(2d/k) + \\frac{k\\,d}{2}.\n",
    "$$\n",
    "\n",
    "When you compute $k$ you should check this formula to ensure you have the solution with the smallest area."
   ]
  },
  {
   "cell_type": "markdown",
   "id": "b3201c7e-0f77-4a8e-96ff-7dcd85078357",
   "metadata": {},
   "source": [
    "---\n",
    "#### 🚩 2.a [6 marks]\n",
    "\n",
    "Write a function `k_solve(b, d, eps)` that takes three input arguments:\n",
    "\n",
    "- `b`, a positive floating point number representing the radius $b$ of the right ring,\n",
    "- `d`, a positive floating point number representing the distance $d$ between the two rings,\n",
    "- `eps`, a small positive floating point number representing a tolerance $\\epsilon$,\n",
    "\n",
    "and returns a value of $k \\in (0, 1)$, if it exists, such that $r_{k}(d) = b \\pm \\epsilon$.\n",
    "\n",
    "The one-solution case will be addressed in a later question; for now, you can assume that the given values of `b` and `d` will always produce either zero or two solutions.\n",
    "\n",
    "- If there are zero solutions, your function must return the value `None`.\n",
    "- If there are two solutions, you must return the solution which gives the *minimum* possible value of the total area, $A$. The result must also be returned as a `float`.\n",
    "\n",
    "You can employ any of the root-finding methods we have seen in the course, as long as your function robustly returns the required result in all cases."
   ]
  },
  {
   "cell_type": "code",
   "execution_count": null,
   "id": "d46b7bfb-178d-4802-8098-e957f2104dae",
   "metadata": {},
   "outputs": [],
   "source": [
    "# Run this cell to test your functions.\n",
    "importlib.reload(task2);\n",
    "eps = 1e-5\n",
    "\n",
    "# With b = 1, d = 1.5, there should be zero solutions\n",
    "assert task2.k_solve(1., 1.5, eps) is None\n",
    "\n",
    "# With b = 1, d = 1.2, there should be two solutions, one of which is valid\n",
    "assert round(task2.k_solve(1., 1.2, eps), 3) == 0.745\n",
    "\n",
    "print('All tests passed.')"
   ]
  },
  {
   "cell_type": "markdown",
   "id": "2b3e51d0-7673-4408-a7c2-9f98913e3841",
   "metadata": {},
   "source": [
    "---\n",
    "#### 🚩 2.b [3 marks]\n",
    "\n",
    "Now that you can compute $k$ given $b,d$, use this to write a function `radius(s, b, d)` that takes three input arguments:\n",
    "\n",
    "- `s`, a floating point number or a NumPy array of floating point numbers $s \\in (0, d)$,\n",
    "- `b`, a positive floating point number representing the radius $b$ of the right ring,\n",
    "- `d`, a positive floating point number representing the distance $d$ between the two rings,\n",
    "\n",
    "and computes and returns $r(s)$ with the correct value of $k$ such that $r(d) = b$. The function should solve for the required $k$ internally by calling your `k_solve()` function, using a tolerance $\\epsilon = 10^{-7}$. You should be able to check that your result satisfies the boundary condition at $s=d$.\n",
    "\n",
    "The function should return $r(s)$ as a `float` if `s` is given as a float, and as a NumPy array of the same shape if `s` is given as a NumPy array. For full marks, it should be vectorised."
   ]
  },
  {
   "cell_type": "code",
   "execution_count": null,
   "id": "dcba47de-6f6a-4c90-a5c9-cab69ed24b5c",
   "metadata": {},
   "outputs": [],
   "source": [
    "importlib.reload(task2);\n",
    "b, d = 1, 1.32\n",
    "# Checking that r(d) = b\n",
    "assert round(task2.radius(d, b, d), 3) == b\n",
    "print('Test passed.')"
   ]
  },
  {
   "cell_type": "markdown",
   "id": "1a992a9a-c657-40f8-a45e-2566713e2ad4",
   "metadata": {},
   "source": [
    "---\n",
    "#### 🚩 2.c [2 marks]\n",
    "\n",
    "Using the radius function, $r(s)$, we can parameterise a two-dimensional surface that shows what a given soap film would look like in three-dimensional space. \n",
    "\n",
    "$$\n",
    "x \\ = \\  r(s) \\, \\cos(t), \\qquad y \\ = \\ r(s) \\, \\sin(t), \\qquad z \\ = \\ s,\n",
    "$$\n",
    "where \n",
    "\n",
    "$$\n",
    "0 \\ \\le \\  s  \\ \\le  \\ d, \\qquad 0  \\ \\le \\ t \\ < \\ 2\\pi.\n",
    "$$\n",
    "\n",
    "Complete the function `surface()` started in `task2.py`, to create a surface plot of a soap film given $b$ and $d$ parameters. The missing block is indicated by\n",
    "\n",
    "    # MAKE YOUR DATA HERE:\n",
    "\n",
    "    [ Your code in this block]\n",
    "\n",
    "    # END MAKING YOUR DATA HERE.\n",
    "\n",
    "You will have to program the relevant code that uses your `radius()` function to generate the parameterised two-dimensional surface.\n",
    "\n",
    "When finished, you should have three `np.ndarrays`, `X`, `Y`, `Z` (each with `shape` `(n, n)`) that you can use to generate your `plot_surface` object. Other than the code between the comments, DO NOT modify any other part of the given plotting code.\n",
    "\n",
    "You may wish to adapt [this example](https://matplotlib.org/stable/gallery/mplot3d/surface3d_radial.html) from the Matplotlib examples gallery."
   ]
  },
  {
   "cell_type": "code",
   "execution_count": null,
   "id": "56c5e20b-de26-4e22-aba8-c18210f08f4e",
   "metadata": {},
   "outputs": [],
   "source": [
    "importlib.reload(task2);\n",
    "# This should display a soap film with a small ring above\n",
    "# and a larger ring below.\n",
    "fig, ax = task2.surface(0.6, 1)\n",
    "plt.show()"
   ]
  },
  {
   "cell_type": "markdown",
   "id": "e3d4fe12-6a6c-4bde-a61c-96c2d2eed7da",
   "metadata": {},
   "source": [
    "---\n",
    "### Catastrophe!  \n",
    "\n",
    "As mentioned before, sometimes there are no $k$ solutions for given $b, d$ pairs; and sometimes there are two solutions, but one of those solutions doesn't come with a minimal total area integral.\n",
    "\n",
    "However, for a given $b$ parameter, there are special values of $d$ where those two solutions coalesce into a single solution. That point is called a *catastrophe* or *tipping point*. For the soap film, it means that there's only so far you can pull the rings apart before they pop! It's not that the solution becomes unstable (or too delicate); the equilibrium *fails to exist*.\n",
    "\n",
    "You can see this type of general behaviour even in a simple parabola:"
   ]
  },
  {
   "cell_type": "code",
   "execution_count": null,
   "id": "ef3eb9dc-ed60-4847-ae5e-061876470668",
   "metadata": {},
   "outputs": [],
   "source": [
    "x = np.linspace(0, 1, 100)\n",
    "y = (x - 0.5)**2\n",
    "fig, ax = plt.subplots()\n",
    "ax.plot(x, y - 0.1, 'b--')\n",
    "ax.plot(x, y, 'g-.')\n",
    "ax.plot(x, y + 0.1, 'r')\n",
    "ax.legend(['two solutions', 'one solution', 'zero solutions'])\n",
    "ax.plot(x, 0*x, 'k')\n",
    "ax.set(xlabel='x')\n",
    "plt.show()"
   ]
  },
  {
   "cell_type": "markdown",
   "id": "a7b37162-3da2-4c03-bff4-65fd4d34d8eb",
   "metadata": {},
   "source": [
    "The parabola demonstrates that the condition for when the two roots merge is that both the function and its derivative vanish just before both solutions disappear. \n",
    "\n",
    "In the soap film case, given $b$, this gives us a system of 2 simultaneous equations,\n",
    "\n",
    "$$\n",
    "r_{k}(d) - b \\ = \\ 0 \\qquad (1), \\qquad \\frac{\\partial}{\\partial k} \\, r_{k}(d) \\ = \\ 0 \\qquad (2),\n",
    "$$\n",
    "\n",
    "which we can solve for $d, k$ together. However, it's also possible to use a change of variables,\n",
    "\n",
    "$$d = z \\, k.$$\n",
    "\n",
    "Then we can use $(1)$ to find,\n",
    "\n",
    "$$\n",
    "\\sqrt{1-k^{2}}  \\ = \\ \\frac{\\cosh(\\,z\\,)  - b}{\\sinh(\\,z\\,)}.\n",
    "$$\n",
    "\n",
    "Finally, we can substitute $k$ back into $(2)$ to find a closed equation purely for $z$ in terms of $b$. After solving for $z$, we can calculate $k$ and then $d$."
   ]
  },
  {
   "cell_type": "markdown",
   "id": "6f3444a7-54c9-41f8-b8f9-53c35d9bddc3",
   "metadata": {},
   "source": [
    "---\n",
    "#### 🚩 2.d [3 marks]\n",
    "\n",
    "Write a function `critical_d(b, eps)` that takes two input arguments, `b` and a tolerance `eps`, and returns the value for $d$ where the stable soap film disintegrates. For full marks, your function should also be *vectorised*, where it can input a NumPy array of $b$ parameter values, and return an array of the same shape with corresponding values of $d$.\n",
    "\n",
    "The result should be returned correctly within tolerance `eps`, as was done in question 2.a.\n",
    "\n",
    "Then, in the code cell below, make a plot of $d$ as a function of $b$ over the interval $[0.2, 5]$.\n",
    "\n",
    "_Note: the result below for $b=1$ means that you can only pull two equal rings apart $\\approx 1.325\\times$  their mutual radii before the bubble pops._"
   ]
  },
  {
   "cell_type": "code",
   "execution_count": null,
   "id": "f1df7ff1-cff0-42f3-a9d4-ec5cb7279f53",
   "metadata": {},
   "outputs": [],
   "source": [
    "importlib.reload(task2);\n",
    "eps = 1e-6\n",
    "assert round(task2.critical_d(1, eps), 3) == 1.325\n",
    "assert round(task2.critical_d(0.5, eps), 3) == 0.913\n",
    "print('All tests passed.')"
   ]
  },
  {
   "cell_type": "code",
   "execution_count": null,
   "id": "30385264-f0df-4b9f-bdd8-1db56bddf79a",
   "metadata": {},
   "outputs": [],
   "source": [
    "importlib.reload(task2);\n",
    "# Your code here\n",
    "\n"
   ]
  },
  {
   "cell_type": "markdown",
   "id": "708c7d1e-163d-4bc3-81b7-e522406a1284",
   "metadata": {},
   "source": [
    "---\n",
    "## Task 3: Numerical Integration of an ODE [20 marks]\n",
    "\n",
    "Cardiac tissue is an example of an excitable medium, where a small stimulus can lead to a large response (a heart beat). The FitzHugh-Nagumo model describes the electrical activity of a single cardiac cell in terms of the transmembrane potential $u(t)$ and a recovery variable $v(t)$,\n",
    "\n",
    "$$\n",
    "\\frac{du}{dt} = f(u,v) = \\frac{1}{\\varepsilon} \\left( u - \\frac{u^3}{3} - v + I \\right) \\ ,\n",
    "$$\n",
    "\n",
    "$$\n",
    "\\frac{dv}{dt} = g(u,v) = \\varepsilon \\left( u - \\gamma v + \\beta \\right) \\ ,\n",
    "$$\n",
    "\n",
    "where $I$ (a stimulus), $\\varepsilon$, $\\gamma$, and $\\beta$ are known parameters.\n",
    "\n",
    "The equation for $u$ leads to fast dynamics with the possibility of excitation, while the linear term proportional to $-v$ in the equation for the recovery variable produces slower dynamics and negative feedback. The FitzHugh-Nagumo model is an example of a stiff differential equation, where the stiffness becomes more pronounced for smaller $\\varepsilon$."
   ]
  },
  {
   "cell_type": "markdown",
   "id": "9a6b528c-b174-4b98-823d-7f9ab2c68946",
   "metadata": {},
   "source": [
    "---\n",
    "#### 🚩 3.a [4 marks]\n",
    "\n",
    "The fixed points $(u^*, v^*)$, defined as the solutions of $\\frac{du}{dt} = f(u, v) = 0$ and $\\frac{dv}{dt} = g(u, v) = 0$, correspond to the state of a cell at rest.\n",
    "\n",
    "Write a function `resting_state(u_init, v_init, eps, gamma, beta, I)` which takes five input arguments:\n",
    "\n",
    "- `u_init` and `v_init`, two floating point numbers representing an initial guess $(u_{\\text{init}}, v_{\\text{init}})$ for the fixed points,\n",
    "- `eps`, `gamma`, `beta`, and `I`, four floating point numbers representing the values of parameters $\\varepsilon, \\gamma, \\beta, I$ respectively,\n",
    "\n",
    "and returns as two floating point numbers, the values $(u^*, v^*)$ for the cell in its resting state for a given set of parameters, determined using Newton's method with the initial guess $(u_{\\text{init}}, v_{\\text{init}})$. Use a tolerance of at most $10^{-8}$."
   ]
  },
  {
   "cell_type": "code",
   "execution_count": null,
   "id": "f0f869f0-9903-4046-a460-cc30f70fb3bd",
   "metadata": {},
   "outputs": [],
   "source": [
    "importlib.reload(task3);\n",
    "u_init, v_init = 0.2, 0.2\n",
    "eps, gamma, beta = 0.2, 0.8, 0.7\n",
    "I = 0.\n",
    "u_star, v_star = task3.resting_state(u_init, v_init, eps, gamma, beta, I)\n",
    "assert round(u_star, 3) == -1.199\n",
    "assert round(v_star, 3) == -0.624\n",
    "print('Tests passed.')"
   ]
  },
  {
   "cell_type": "markdown",
   "id": "bedc4653-8f8d-411c-afb2-d20543ffdd5a",
   "metadata": {},
   "source": [
    "---\n",
    "#### 🚩 3.b [7 marks]\n",
    "\n",
    "Write a function `solve_ODE(u0, v0, nmax, dt, eps, gamma, beta, I)` which computes the numerical solution $(u_n, v_n) \\approx (u(n\\Delta t), v(n\\Delta t))$ for $n=0, 1, 2, \\dots, n_{\\max}$ for the FitzHugh-Nagumo model, with initial condition $(u_0, v_0) = (u(t=0), v(t=0))$.\n",
    "\n",
    "Your function should use the forward Euler method (seen in Week 7), with step size $\\Delta t$, and return the result as a NumPy array with 2 rows and $n_{\\max}+1$ columns, where the first row contains the values of $u_n$ and the second row contains the values of $v_n$."
   ]
  },
  {
   "cell_type": "code",
   "execution_count": null,
   "id": "b4c78a01-696d-4cb9-8f6e-d7d0f23706ca",
   "metadata": {},
   "outputs": [],
   "source": [
    "importlib.reload(task3);\n",
    "u0, v0 = 0.8, 0.5\n",
    "eps, gamma, beta, I = 0.2, 0.8, 0.7, 3.\n",
    "dt = 1e-2\n",
    "nmax = 10000\n",
    "uv = task3.solve_ODE(u0, v0, nmax, dt, eps, gamma, beta, I)\n",
    "\n",
    "# Check initial conditions have been set correctly\n",
    "np.testing.assert_equal(uv[:, 0], [u0, v0])\n",
    "\n",
    "# Check final values are reasonable\n",
    "assert 1.5 < uv[0, -1] < 2.0\n",
    "assert 2.8 < uv[1, -1] < 3.3\n",
    "\n",
    "print('Tests passed.')"
   ]
  },
  {
   "cell_type": "markdown",
   "id": "d2fb3702-2829-494e-91f6-e503709ecddc",
   "metadata": {},
   "source": [
    "---\n",
    "#### 🚩 3.c [4 marks]\n",
    "\n",
    "Write a function `plot_solutions(uv, dt)` which takes two input arguments:\n",
    "\n",
    "- `uv`, a NumPy array with 2 rows and $n_{\\max}+1$ columns containing $(u_n, v_n)$ values as returned by `solve_ODE()`,\n",
    "- `dt`, a floating point number representing $\\Delta t$, the step size used to compute `uv`,\n",
    "\n",
    "and returns `fig` and `ax`, a Figure and Axes object respectively, containing 2 subplots:\n",
    "\n",
    "- The left subplot should show $u_n$ and $v_n$ with **time** (not time step) on the x-axis.\n",
    "- The right subplot should show $v_n$ as a function of $u_n$. This will show what we call the solution trajectories in *phase space*.\n",
    "\n",
    "Some starter code is given to you to set up the figure and axes objects.\n",
    "\n",
    "Then, in the code cell below, use your functions `solve_ODE()` to compute the solution for both $I = 0$ and $I = 0.5$, with $(u_0 = 0.8, v_0 = 0.8)$ as the initial condition, and the following parameter values:\n",
    "\n",
    "- $n_{\\max} = 10^4$\n",
    "- $\\Delta t = 10^{-2}$ seconds\n",
    "- $\\varepsilon = 0.2$\n",
    "- $\\gamma = 0.8$\n",
    "- $\\beta = 0.7$\n",
    "\n",
    "Then, use your function `plot_solutions()` to display the solutions for both values of $I$. This means that running the cell should display 4 separate plots (2 subplots for each value of $I$). You should format the plots so that the data presentation is clear and easy to understand.\n",
    "\n",
    "Given what this mathematical model describes, and given that $I$ represents a stimulus, how do you interpret your results for the two different values of $I$? Describe your observations in less than 200 words."
   ]
  },
  {
   "cell_type": "code",
   "execution_count": null,
   "id": "d0fc4b9f-6f89-419d-8f8b-9332eecb5667",
   "metadata": {},
   "outputs": [],
   "source": [
    "importlib.reload(task3);\n",
    "# Your code here\n",
    "\n"
   ]
  },
  {
   "cell_type": "markdown",
   "id": "e584f491-afc7-4f25-8253-cd6f69ec8517",
   "metadata": {},
   "source": [
    "_✏️ You can edit this cell to write your interpretation of the results._"
   ]
  },
  {
   "cell_type": "markdown",
   "id": "b5a867b1-3d61-4c8f-be65-61580f0b0dd3",
   "metadata": {},
   "source": [
    "---\n",
    "#### 🚩 3.d [5 marks]\n",
    "\n",
    "For this question, we set the following parameter values:\n",
    "\n",
    "- $n_{\\max} = 10^4$\n",
    "- $\\Delta t = 10^{-2}$ seconds\n",
    "- $\\varepsilon = 0.2$\n",
    "- $\\gamma = 5$\n",
    "- $\\beta = 0.7$\n",
    "- $I = 0$\n",
    "\n",
    "In the code cell below, write code to:\n",
    "\n",
    "(a) Use the function `resting_state()` you wrote for **3.a** to find three fixed points, $(u_{(0)}^*, v_{(0)}^*)$, $(u_{(1)}^*, v_{(1)}^*)$ and $(u_{(2)}^*, v_{(2)}^*)$, using the initial guesses provided in the NumPy array `uv_init` below (each row of the array constitutes a pair of initial conditions for one of the three fixed points).\n",
    "\n",
    "(b) Compute the numerical solution $(u_n, v_n), n=0, 1, 2, \\dots, n_{\\max}$ using the initial condition $(u_{(0)}^* + \\delta, v_{(0)}^* + \\delta)$, for $\\delta \\in \\{0, 0.3, 0.6, 1.0\\}$. This simulates the activity of a cell starting at a small perturbation $\\delta$ of one of its resting states, in this case $(u_{(0)}^*, v_{(0)}^*)$.\n",
    "\n",
    "(c) Use your function `plot_solutions()` to plot your results for the 4 different values of $\\delta$, and discuss your observations in less than 150 words. In particular, does the solution always return to the same fixed point, i.e. the same resting state?"
   ]
  },
  {
   "cell_type": "code",
   "execution_count": null,
   "id": "38bc4fbe-1a52-44e3-9ffe-cdfd33ed6504",
   "metadata": {},
   "outputs": [],
   "source": [
    "importlib.reload(task3);\n",
    "# Your code here\n",
    "\n",
    "# Initial conditions\n",
    "uv_init = np.array([[0.9, 0.6], [0., 0.4], [-1.7, -0.3]])"
   ]
  },
  {
   "cell_type": "markdown",
   "id": "e7fd9391-656b-4405-a2aa-dedc705f7237",
   "metadata": {},
   "source": [
    "_✏️ You can edit this cell to write your interpretation of the results._"
   ]
  }
 ],
 "metadata": {
  "kernelspec": {
   "display_name": "Python 3 (ipykernel)",
   "language": "python",
   "name": "python3"
  },
  "language_info": {
   "codemirror_mode": {
    "name": "ipython",
    "version": 3
   },
   "file_extension": ".py",
   "mimetype": "text/x-python",
   "name": "python",
   "nbconvert_exporter": "python",
   "pygments_lexer": "ipython3",
   "version": "3.12.0"
  }
 },
 "nbformat": 4,
 "nbformat_minor": 5
}
